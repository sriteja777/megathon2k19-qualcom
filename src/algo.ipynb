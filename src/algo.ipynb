{
 "cells": [
  {
   "cell_type": "code",
   "execution_count": 69,
   "metadata": {
    "pycharm": {
     "is_executing": false
    }
   },
   "outputs": [],
   "source": [
    "# import dependencies\n",
    "%matplotlib inline\n",
    "import pandas as pd\n",
    "import numpy as np\n",
    "import nltk\n",
    "from nltk.corpus import stopwords\n",
    "import gensim\n",
    "from gensim.models import LdaModel\n",
    "from gensim import models, corpora, similarities\n",
    "import re\n",
    "from nltk.stem.porter import PorterStemmer\n",
    "import time\n",
    "from nltk import FreqDist\n",
    "from scipy.stats import entropy\n",
    "import matplotlib.pyplot as plt\n",
    "import seaborn as sns\n",
    "sns.set_style(\"darkgrid\")\n"
   ]
  },
  {
   "cell_type": "code",
   "execution_count": 70,
   "metadata": {
    "pycharm": {
     "is_executing": false,
     "name": "#%%\n"
    }
   },
   "outputs": [
    {
     "data": {
      "text/html": [
       "<div>\n",
       "<style scoped>\n",
       "    .dataframe tbody tr th:only-of-type {\n",
       "        vertical-align: middle;\n",
       "    }\n",
       "\n",
       "    .dataframe tbody tr th {\n",
       "        vertical-align: top;\n",
       "    }\n",
       "\n",
       "    .dataframe thead th {\n",
       "        text-align: right;\n",
       "    }\n",
       "</style>\n",
       "<table border=\"1\" class=\"dataframe\">\n",
       "  <thead>\n",
       "    <tr style=\"text-align: right;\">\n",
       "      <th></th>\n",
       "      <th>abstract</th>\n",
       "    </tr>\n",
       "  </thead>\n",
       "  <tbody>\n",
       "    <tr>\n",
       "      <td>0</td>\n",
       "      <td>Abstract.In operations of increasingly complex...</td>\n",
       "    </tr>\n",
       "    <tr>\n",
       "      <td>1</td>\n",
       "      <td>Abstract:In  this  paper,  an  attempt  has  b...</td>\n",
       "    </tr>\n",
       "    <tr>\n",
       "      <td>2</td>\n",
       "      <td>Human iris is considered a reliable and accura...</td>\n",
       "    </tr>\n",
       "    <tr>\n",
       "      <td>3</td>\n",
       "      <td>ABSTRACT We focus on the problem of designing ...</td>\n",
       "    </tr>\n",
       "    <tr>\n",
       "      <td>4</td>\n",
       "      <td>Abstract—Human iris contains rich textural inf...</td>\n",
       "    </tr>\n",
       "  </tbody>\n",
       "</table>\n",
       "</div>"
      ],
      "text/plain": [
       "                                            abstract\n",
       "0  Abstract.In operations of increasingly complex...\n",
       "1  Abstract:In  this  paper,  an  attempt  has  b...\n",
       "2  Human iris is considered a reliable and accura...\n",
       "3  ABSTRACT We focus on the problem of designing ...\n",
       "4  Abstract—Human iris contains rich textural inf..."
      ]
     },
     "execution_count": 70,
     "metadata": {},
     "output_type": "execute_result"
    }
   ],
   "source": [
    "# df = pd.read_csv('fake.csv', usecols = ['uuid','author','title','text','language','site_url','country'])\n",
    "df = pd.read_csv('../summaries.csv', )\n",
    "# df = df[df.language == 'english']\n",
    "# df = df[df['text'].map(type) == str]\n",
    "# df['title'].fillna(value=\"\", inplace=True)\n",
    "# df.dropna(axis=0, inplace=True, subset=['text'])\n",
    "# shuffle the data\n",
    "df = df.sample(frac=1.0)\n",
    "df.reset_index(drop=True,inplace=True)\n",
    "df.head()"
   ]
  },
  {
   "cell_type": "code",
   "execution_count": 117,
   "metadata": {
    "pycharm": {
     "is_executing": false,
     "name": "#%%\n"
    }
   },
   "outputs": [],
   "source": [
    "def initial_clean(text):\n",
    "    \"\"\"\n",
    "    Function to clean text of websites, email addresess and any punctuation\n",
    "    We also lower case the text\n",
    "    \"\"\"\n",
    "    text = re.sub(\"((\\S+)?(http(s)?)(\\S+))|((\\S+)?(www)(\\S+))|((\\S+)?(\\@)(\\S+)?)\", \" \", text)\n",
    "    text = re.sub(\"[^a-zA-Z ]\", \"\", text)\n",
    "    text = text.lower() # lower case the text\n",
    "    \n",
    "    text = nltk.word_tokenize(text)\n",
    "#     print('sdfdfsfsdf',  text)\n",
    "    return text\n",
    "\n",
    "stop_words = stopwords.words('english')\n",
    "# print(stop_words)\n",
    "def remove_stop_words(text):\n",
    "    \"\"\"\n",
    "    Function that removes all stopwords from text\n",
    "    \"\"\"\n",
    "#     print(text)\n",
    "    words = []\n",
    "    for word in text:\n",
    "        if word not in stop_words:\n",
    "            words.append(word)\n",
    "    return words\n",
    "#     return [word for word in text if word not in stop_words]\n",
    "\n",
    "stemmer = PorterStemmer()\n",
    "def stem_words(text):\n",
    "    \"\"\"\n",
    "    Function to stem words, so plural and singular are treated the same\n",
    "    \"\"\"\n",
    "    try:\n",
    "#         print('dsfsdfsdfs',text)\n",
    "#         text = [stemmer.stem(word) for word in text]\n",
    "#         print(text)\n",
    "        text = [word for word in text if len(word) > 1] # make sure we have no 1 letter words\n",
    "    except IndexError: # the word \"oed\" broke this, so needed try except\n",
    "        pass\n",
    "    return text\n",
    "\n",
    "def apply_all(text):\n",
    "    \"\"\"\n",
    "    This function applies all the functions above into one\n",
    "    \"\"\"\n",
    "    return stem_words(remove_stop_words(initial_clean(text)))\n",
    "\n"
   ]
  },
  {
   "cell_type": "code",
   "execution_count": 118,
   "metadata": {
    "pycharm": {
     "is_executing": false,
     "name": "#%%\n"
    }
   },
   "outputs": [
    {
     "name": "stdout",
     "output_type": "stream",
     "text": [
      "Time to clean and tokenize 6 articles: 0.0006644527117411295 min\n",
      "                                            abstract  \\\n",
      "0  Abstract.In operations of increasingly complex...   \n",
      "1  Abstract:In  this  paper,  an  attempt  has  b...   \n",
      "2  Human iris is considered a reliable and accura...   \n",
      "3  ABSTRACT We focus on the problem of designing ...   \n",
      "4  Abstract—Human iris contains rich textural inf...   \n",
      "5  Iris recognition systems are vulnerable to pre...   \n",
      "\n",
      "                                           tokenized  \n",
      "0  [abstractin, operations, increasingly, complex...  \n",
      "1  [abstractin, paper, attempt, made, review, var...  \n",
      "2  [human, iris, considered, reliable, accurate, ...  \n",
      "3  [abstract, focus, problem, designing, network,...  \n",
      "4  [abstracthuman, iris, contains, rich, textural...  \n",
      "5  [iris, recognition, systems, vulnerable, prese...  \n"
     ]
    }
   ],
   "source": [
    "# clean text and title and create new column \"tokenized\"\n",
    "t1 = time.time()\n",
    "df['tokenized'] = df['abstract'].apply(apply_all) #+ df['title'].apply(apply_all)\n",
    "t2 = time.time()\n",
    "print(\"Time to clean and tokenize\", len(df), \"articles:\", (t2-t1)/60, \"min\")\n",
    "print(df)\n"
   ]
  },
  {
   "cell_type": "code",
   "execution_count": 119,
   "metadata": {
    "pycharm": {
     "is_executing": false,
     "name": "#%%\n"
    }
   },
   "outputs": [
    {
     "name": "stdout",
     "output_type": "stream",
     "text": [
      "['abstractin', 'operations', 'increasingly', 'complex', 'telecommunication', 'networkscharacterization', 'system', 'state', 'choosing', 'optimal', 'operation', 'challenges', 'one', 'possible', 'approach', 'utilize', 'statistical', 'uncertain', 'information', 'inthe', 'network', 'management', 'paper', 'gives', 'overview', 'work', 'amarkov', 'logic', 'network', 'model', 'mln', 'used', 'mobile', 'network', 'analysis', 'withan', 'rdfbased', 'faceted', 'search', 'interface', 'monitor', 'control', 'behavior', 'themln', 'reasoner', 'experiments', 'based', 'prototype', 'implementation', 'indicatethat', 'combination', 'mln', 'semantic', 'web', 'technologies', 'effectivelyutilized', 'network', 'status', 'characterization', 'optimization', 'visualization', 'abstractin', 'paper', 'attempt', 'made', 'review', 'various', 'existing', 'generations', 'mobile', 'wireless', 'technology', 'terms', 'portals', 'performance', 'advantages', 'disadvantages', 'paper', 'throws', 'light', 'evolution', 'development', 'various', 'generations', 'mobile', 'wireless', 'technology', 'along', 'significance', 'advantages', 'one', 'past', 'decades', 'mobile', 'wireless', 'technologies', 'experience', 'generations', 'technology', 'revolution', 'evolution', 'namely', 'gcurrent', 'research', 'mobile', 'wireless', 'technology', 'concentrates', 'advance', 'implementation', 'technology', 'technology', 'currently', 'term', 'officially', 'used', 'research', 'made', 'development', 'world', 'wide', 'wireless', 'web', 'wwww', 'dynamic', 'adhoc', 'wireless', 'networks', 'dawn', 'real', 'wireless', 'worldin', 'paper', 'propose', 'novel', 'network', 'architecture', 'next', 'generation', 'mobile', 'networks', 'proposed', 'architecture', 'mobile', 'terminal', 'possibility', 'change', 'radio', 'access', 'technology', 'rat', 'based', 'certain', 'user', 'criteria', 'key', 'concept', 'evolution', 'gg', 'network', 'architecture', 'need', 'human', 'iris', 'considered', 'reliable', 'accurate', 'modality', 'biometric', 'recognition', 'due', 'unique', 'texture', 'information', 'however', 'similar', 'biometric', 'modalitiesiris', 'recognition', 'systems', 'also', 'vulnerable', 'presentationattacks', 'commonly', 'called', 'spoofing', 'attempt', 'concealor', 'impersonate', 'identity', 'examples', 'typical', 'iris', 'spoofingattacks', 'printed', 'iris', 'images', 'textured', 'contact', 'lenses', 'andsynthetic', 'creation', 'iris', 'images', 'critical', 'note', 'thatmajority', 'algorithms', 'proposed', 'literature', 'aretrained', 'handle', 'specific', 'type', 'spoofing', 'attack', 'thesealgorithms', 'usually', 'perform', 'well', 'particular', 'attack', 'however', 'realworld', 'applications', 'attacker', 'mayperform', 'different', 'spoofing', 'attacks', 'case', 'problem', 'becomes', 'challenging', 'due', 'inherent', 'variations', 'indifferent', 'attacks', 'paper', 'focus', 'medley', 'irisspoofing', 'attacks', 'present', 'unified', 'framework', 'detecting', 'attacks', 'propose', 'novel', 'structural', 'texturalfeature', 'based', 'iris', 'spoofing', 'detection', 'framework', 'desistmultiorder', 'dense', 'zernike', 'moments', 'calculated', 'acrossthe', 'iris', 'image', 'encode', 'variations', 'structure', 'theiris', 'image', 'local', 'binary', 'pattern', 'variance', 'lbpv', 'isutilized', 'representing', 'textural', 'changes', 'spoofed', 'irisimage', 'highest', 'classification', 'accuracy', 'observed', 'proposed', 'framework', 'detecting', 'normal', 'andspoofed', 'iris', 'images', 'combined', 'iris', 'spoofing', 'database', 'abstract', 'focus', 'problem', 'designing', 'network', 'architecture', 'provide', 'coverage', 'ruralareas', 'proposed', 'architecture', 'composed', 'base', 'stations', 'carried', 'unmanned', 'aerial', 'vehicles', 'uavsand', 'supported', 'ground', 'sites', 'interconnected', 'optical', 'fiber', 'links', 'also', 'consider', 'dimensioning', 'ofeach', 'site', 'terms', 'number', 'solar', 'panels', 'sps', 'batteries', 'formulate', 'problem', 'costminimization', 'aforementioned', 'architecture', 'considering', 'cost', 'installing', 'sites', 'ii', 'costsfor', 'installing', 'sps', 'batteries', 'site', 'iii', 'costs', 'installing', 'optical', 'fiber', 'links', 'betweenthe', 'installed', 'sites', 'iv', 'scheduling', 'uavs', 'serve', 'rural', 'areas', 'results', 'obtained', 'arepresentative', 'scenario', 'reveal', 'proposed', 'solution', 'effective', 'limiting', 'total', 'costs', 'ableto', 'ensure', 'coverage', 'rural', 'areaskeywords', 'uavbased', 'networks', 'optical', 'rings', 'cost', 'minimization', 'optimization', 'abstracthuman', 'iris', 'contains', 'rich', 'textural', 'informationwhich', 'serves', 'key', 'information', 'biometric', 'identificationsit', 'unique', 'one', 'accurate', 'biometricmodalities', 'however', 'spoofing', 'techniques', 'used', 'obfuscateor', 'impersonate', 'identities', 'increase', 'risk', 'false', 'acceptanceor', 'false', 'rejection', 'paper', 'revisits', 'iris', 'recognition', 'spoofingattacks', 'analyzes', 'effect', 'recognition', 'performancespecifically', 'print', 'attack', 'contact', 'lens', 'variations', 'used', 'asthe', 'spoofing', 'mechanism', 'observed', 'print', 'attack', 'andcontact', 'lens', 'individually', 'conjunction', 'significantlychange', 'interpersonal', 'intrapersonal', 'distributions', 'andthereby', 'increase', 'possibility', 'deceive', 'iris', 'recognitionsystems', 'paper', 'also', 'presents', 'iiitd', 'iris', 'spoofing', 'databasewhich', 'contains', 'iris', 'images', 'pertaining', 'individuals', 'variations', 'due', 'contact', 'lens', 'sensor', 'printattack', 'finally', 'paper', 'also', 'shows', 'cost', 'effective', 'descriptorapproaches', 'may', 'help', 'countermeasuring', 'spooking', 'attacks', 'iris', 'recognition', 'systems', 'vulnerable', 'presentationattacks', 'adversary', 'employs', 'artifacts', 'dprints', 'eye', 'plastic', 'eyes', 'cosmetic', 'contact', 'lensesto', 'obfuscate', 'identity', 'spoof', 'identity', 'ofanother', 'subject', 'work', 'design', 'convolutionalneural', 'network', 'cnn', 'architecture', 'presentation', 'attackdetection', 'observed', 'good', 'crossdataset', 'generalization', 'capability', 'salient', 'features', 'proposedapproach', 'include', 'use', 'prenormalized', 'irisrather', 'normalized', 'iris', 'thereby', 'avoiding', 'spatial', 'information', 'loss', 'tessellation', 'iris', 'region', 'intooverlapping', 'patches', 'enable', 'data', 'augmentation', 'wellas', 'learn', 'features', 'location', 'agnostic', 'fusionof', 'information', 'across', 'patches', 'enhance', 'detection', 'accuracy', 'incorporating', 'segmentation', 'mask', 'orderto', 'automatically', 'learn', 'relative', 'importance', 'pupiland', 'iris', 'regions', 'generation', 'heat', 'map', 'displays', 'patchwise', 'presentation', 'attack', 'information', 'therebyaccounting', 'artifacts', 'may', 'impact', 'small', 'portion', 'iris', 'region', 'experiments', 'confirm', 'efficacy', 'ofthe', 'proposed', 'approach']\n"
     ]
    },
    {
     "data": {
      "text/plain": [
       "394"
      ]
     },
     "execution_count": 119,
     "metadata": {},
     "output_type": "execute_result"
    }
   ],
   "source": [
    "# first get a list of all words\n",
    "all_words = [word for item in list(df['tokenized']) for word in item]\n",
    "# use nltk fdist to get a frequency distribution of all words\n",
    "fdist = FreqDist(all_words)\n",
    "print(all_words)\n",
    "len(fdist) # number of unique words"
   ]
  },
  {
   "cell_type": "code",
   "execution_count": 123,
   "metadata": {
    "pycharm": {
     "is_executing": false,
     "name": "#%%\n"
    }
   },
   "outputs": [
    {
     "data": {
      "text/plain": [
       "[('increasingly', 1),\n",
       " ('complex', 1),\n",
       " ('telecommunication', 1),\n",
       " ('networkscharacterization', 1),\n",
       " ('system', 1),\n",
       " ('state', 1),\n",
       " ('choosing', 1),\n",
       " ('optimal', 1),\n",
       " ('operation', 1),\n",
       " ('challenges', 1)]"
      ]
     },
     "execution_count": 123,
     "metadata": {},
     "output_type": "execute_result"
    }
   ],
   "source": [
    "# choose k and visually inspect the bottom 10 words of the top k\n",
    "k = 100\n",
    "top_k_words = fdist.most_common(k)\n",
    "top_k_words[-10:]\n",
    "\n"
   ]
  },
  {
   "cell_type": "code",
   "execution_count": 126,
   "metadata": {
    "pycharm": {
     "is_executing": false,
     "name": "#%%\n"
    }
   },
   "outputs": [
    {
     "data": {
      "text/plain": [
       "[('paper', 8),\n",
       " ('spoofing', 8),\n",
       " ('mobile', 7),\n",
       " ('wireless', 7),\n",
       " ('technology', 7),\n",
       " ('architecture', 7),\n",
       " ('information', 6),\n",
       " ('proposed', 6),\n",
       " ('recognition', 5),\n",
       " ('attack', 5)]"
      ]
     },
     "execution_count": 126,
     "metadata": {},
     "output_type": "execute_result"
    }
   ],
   "source": [
    "# choose k and visually inspect the bottom 10 words of the top k\n",
    "k = 12\n",
    "top_k_words = fdist.most_common(k)\n",
    "top_k_words[-10:]\n",
    "\n"
   ]
  },
  {
   "cell_type": "code",
   "execution_count": 127,
   "metadata": {
    "pycharm": {
     "is_executing": false,
     "name": "#%%\n"
    }
   },
   "outputs": [],
   "source": [
    "# define a function only to keep words in the top k words\n",
    "top_k_words,_ = zip(*fdist.most_common(k))\n",
    "top_k_words = set(top_k_words)\n",
    "def keep_top_k_words(text):\n",
    "    return [word for word in text if word in top_k_words]"
   ]
  },
  {
   "cell_type": "code",
   "execution_count": 129,
   "metadata": {
    "pycharm": {
     "is_executing": false,
     "name": "#%%\n"
    }
   },
   "outputs": [
    {
     "name": "stdout",
     "output_type": "stream",
     "text": [
      "0    [information, network, paper, network, mobile,...\n",
      "1    [paper, mobile, wireless, technology, paper, m...\n",
      "2    [iris, recognition, information, recognition, ...\n",
      "3    [network, architecture, proposed, architecture...\n",
      "4    [iris, information, spoofing, paper, iris, rec...\n",
      "5    [iris, recognition, network, architecture, iri...\n",
      "Name: tokenized, dtype: object\n"
     ]
    }
   ],
   "source": [
    "df['tokenized'] = df['tokenized'].apply(keep_top_k_words)\n",
    "print(df['tokenized'])"
   ]
  },
  {
   "cell_type": "code",
   "execution_count": 130,
   "metadata": {
    "pycharm": {
     "is_executing": false,
     "name": "#%%\n"
    }
   },
   "outputs": [
    {
     "name": "stdout",
     "output_type": "stream",
     "text": [
      "length of list: 6 \n",
      "average document length 15.333333333333334 \n",
      "minimum document length 6 \n",
      "maximum document length 29\n"
     ]
    }
   ],
   "source": [
    "\n",
    "\n",
    "# document length\n",
    "df['doc_len'] = df['tokenized'].apply(lambda x: len(x))\n",
    "doc_lengths = list(df['doc_len'])\n",
    "df.drop(labels='doc_len', axis=1, inplace=True)\n",
    "\n",
    "print(\"length of list:\",len(doc_lengths),\n",
    "      \"\\naverage document length\", np.average(doc_lengths),\n",
    "      \"\\nminimum document length\", min(doc_lengths),\n",
    "      \"\\nmaximum document length\", max(doc_lengths))\n",
    "\n",
    "\n"
   ]
  },
  {
   "cell_type": "code",
   "execution_count": 148,
   "metadata": {
    "pycharm": {
     "is_executing": false,
     "name": "#%%\n"
    }
   },
   "outputs": [
    {
     "data": {
      "image/png": "[encoded data removed]",
      "text/plain": [
       "<Figure size 864x432 with 1 Axes>"
      ]
     },
     "metadata": {},
     "output_type": "display_data"
    }
   ],
   "source": [
    "# plot a histogram of document length\n",
    "num_bins = 8\n",
    "fig, ax = plt.subplots(figsize=(12,6));\n",
    "# the histogram of the data\n",
    "n, bins, patches = ax.hist(doc_lengths, num_bins, density=1)\n",
    "ax.set_xlabel('Document Length (tokens)', fontsize=15)\n",
    "ax.set_ylabel('Normed Frequency', fontsize=15)\n",
    "ax.grid()\n",
    "ax.set_xticks(np.logspace(start=np.log10(2),stop=np.log10(50),num=10, base=10.0))\n",
    "plt.xlim(0,50)\n",
    "ax.plot([np.average(doc_lengths) for i in np.linspace(0.0,0.0035,100)], np.linspace(0.0,0.0035,100), '-',\n",
    "        label='average doc length')\n",
    "ax.legend()\n",
    "ax.grid()\n",
    "fig.tight_layout()\n",
    "plt.show()\n",
    "\n",
    "# print([np.average(doc_lengths) for i in np.linspace(0.0,0.0035,100)])"
   ]
  },
  {
   "cell_type": "code",
   "execution_count": 149,
   "metadata": {
    "pycharm": {
     "is_executing": false,
     "name": "#%%\n"
    }
   },
   "outputs": [
    {
     "name": "stdout",
     "output_type": "stream",
     "text": [
      "[ True False  True  True  True False]\n"
     ]
    }
   ],
   "source": [
    "msk = np.random.rand(len(df)) < 0.7\n",
    "print(msk)\n"
   ]
  },
  {
   "cell_type": "code",
   "execution_count": 155,
   "metadata": {},
   "outputs": [],
   "source": [
    "\n",
    "\n",
    "train_df = df[msk]\n",
    "train_df.reset_index(drop=True,inplace=True)"
   ]
  },
  {
   "cell_type": "code",
   "execution_count": 156,
   "metadata": {},
   "outputs": [],
   "source": [
    "test_df = df[~msk]\n",
    "test_df.reset_index(drop=True,inplace=True)"
   ]
  },
  {
   "cell_type": "code",
   "execution_count": 157,
   "metadata": {},
   "outputs": [
    {
     "name": "stdout",
     "output_type": "stream",
     "text": [
      "6 4 2\n"
     ]
    }
   ],
   "source": [
    "print(len(df),len(train_df),len(test_df))"
   ]
  },
  {
   "cell_type": "code",
   "execution_count": 158,
   "metadata": {},
   "outputs": [],
   "source": [
    "def train_lda(data):\n",
    "    \"\"\"\n",
    "    This function trains the lda model\n",
    "    We setup parameters like number of topics, the chunksize to use in Hoffman method\n",
    "    We also do 2 passes of the data since this is a small dataset, so we want the distributions to stabilize\n",
    "    \"\"\"\n",
    "    num_topics = 100\n",
    "    chunksize = 300\n",
    "    dictionary = corpora.Dictionary(data['tokenized'])\n",
    "    corpus = [dictionary.doc2bow(doc) for doc in data['tokenized']]\n",
    "    t1 = time.time()\n",
    "    # low alpha means each document is only represented by a small number of topics, and vice versa\n",
    "    # low eta means each topic is only represented by a small number of words, and vice versa\n",
    "    lda = LdaModel(corpus=corpus, num_topics=num_topics, id2word=dictionary,\n",
    "                   alpha=1e-2, eta=0.5e-2, chunksize=chunksize, minimum_probability=0.0, passes=2)\n",
    "    t2 = time.time()\n",
    "    print(\"Time to train LDA model on \", len(df), \"articles: \", (t2-t1)/60, \"min\")\n",
    "    return dictionary,corpus,lda"
   ]
  },
  {
   "cell_type": "code",
   "execution_count": 159,
   "metadata": {},
   "outputs": [
    {
     "name": "stdout",
     "output_type": "stream",
     "text": [
      "Time to train LDA model on  6 articles:  0.00023532708485921223 min\n"
     ]
    }
   ],
   "source": [
    "dictionary,corpus,lda = train_lda(train_df)"
   ]
  },
  {
   "cell_type": "code",
   "execution_count": 160,
   "metadata": {},
   "outputs": [
    {
     "data": {
      "text/plain": [
       "[(25,\n",
       "  '0.100*\"information\" + 0.100*\"mobile\" + 0.100*\"network\" + 0.100*\"paper\" + 0.100*\"attack\" + 0.100*\"iris\" + 0.100*\"proposed\" + 0.100*\"recognition\" + 0.100*\"spoofing\" + 0.100*\"architecture\"'),\n",
       " (51,\n",
       "  '0.100*\"information\" + 0.100*\"mobile\" + 0.100*\"network\" + 0.100*\"paper\" + 0.100*\"attack\" + 0.100*\"iris\" + 0.100*\"proposed\" + 0.100*\"recognition\" + 0.100*\"spoofing\" + 0.100*\"architecture\"'),\n",
       " (99,\n",
       "  '0.100*\"information\" + 0.100*\"mobile\" + 0.100*\"network\" + 0.100*\"paper\" + 0.100*\"attack\" + 0.100*\"iris\" + 0.100*\"proposed\" + 0.100*\"recognition\" + 0.100*\"spoofing\" + 0.100*\"architecture\"'),\n",
       " (20,\n",
       "  '0.100*\"information\" + 0.100*\"mobile\" + 0.100*\"network\" + 0.100*\"paper\" + 0.100*\"attack\" + 0.100*\"iris\" + 0.100*\"proposed\" + 0.100*\"recognition\" + 0.100*\"spoofing\" + 0.100*\"architecture\"'),\n",
       " (29,\n",
       "  '0.100*\"information\" + 0.100*\"mobile\" + 0.100*\"network\" + 0.100*\"paper\" + 0.100*\"attack\" + 0.100*\"iris\" + 0.100*\"proposed\" + 0.100*\"recognition\" + 0.100*\"spoofing\" + 0.100*\"architecture\"'),\n",
       " (17,\n",
       "  '0.100*\"information\" + 0.100*\"mobile\" + 0.100*\"network\" + 0.100*\"paper\" + 0.100*\"attack\" + 0.100*\"iris\" + 0.100*\"proposed\" + 0.100*\"recognition\" + 0.100*\"spoofing\" + 0.100*\"architecture\"'),\n",
       " (59,\n",
       "  '0.100*\"information\" + 0.100*\"mobile\" + 0.100*\"network\" + 0.100*\"paper\" + 0.100*\"attack\" + 0.100*\"iris\" + 0.100*\"proposed\" + 0.100*\"recognition\" + 0.100*\"spoofing\" + 0.100*\"architecture\"'),\n",
       " (6,\n",
       "  '0.100*\"information\" + 0.100*\"mobile\" + 0.100*\"network\" + 0.100*\"paper\" + 0.100*\"attack\" + 0.100*\"iris\" + 0.100*\"proposed\" + 0.100*\"recognition\" + 0.100*\"spoofing\" + 0.100*\"architecture\"'),\n",
       " (96,\n",
       "  '0.100*\"information\" + 0.100*\"mobile\" + 0.100*\"network\" + 0.100*\"paper\" + 0.100*\"attack\" + 0.100*\"iris\" + 0.100*\"proposed\" + 0.100*\"recognition\" + 0.100*\"spoofing\" + 0.100*\"architecture\"'),\n",
       " (43,\n",
       "  '0.100*\"information\" + 0.100*\"mobile\" + 0.100*\"network\" + 0.100*\"paper\" + 0.100*\"attack\" + 0.100*\"iris\" + 0.100*\"proposed\" + 0.100*\"recognition\" + 0.100*\"spoofing\" + 0.100*\"architecture\"')]"
      ]
     },
     "execution_count": 160,
     "metadata": {},
     "output_type": "execute_result"
    }
   ],
   "source": [
    "lda.show_topics(num_topics=10, num_words=20)"
   ]
  },
  {
   "cell_type": "code",
   "execution_count": 182,
   "metadata": {},
   "outputs": [
    {
     "data": {
      "text/plain": [
       "[('information', 0.1),\n",
       " ('mobile', 0.1),\n",
       " ('network', 0.1),\n",
       " ('paper', 0.1),\n",
       " ('attack', 0.1),\n",
       " ('iris', 0.1),\n",
       " ('proposed', 0.1),\n",
       " ('recognition', 0.1),\n",
       " ('spoofing', 0.1),\n",
       " ('architecture', 0.1)]"
      ]
     },
     "execution_count": 182,
     "metadata": {},
     "output_type": "execute_result"
    }
   ],
   "source": [
    "lda.show_topic(topicid=4, topn=20)"
   ]
  },
  {
   "cell_type": "code",
   "execution_count": 162,
   "metadata": {},
   "outputs": [
    {
     "data": {
      "text/plain": [
       "[('information', 0.1),\n",
       " ('mobile', 0.1),\n",
       " ('network', 0.1),\n",
       " ('paper', 0.1),\n",
       " ('attack', 0.1),\n",
       " ('iris', 0.1),\n",
       " ('proposed', 0.1),\n",
       " ('recognition', 0.1),\n",
       " ('spoofing', 0.1),\n",
       " ('architecture', 0.1)]"
      ]
     },
     "execution_count": 162,
     "metadata": {},
     "output_type": "execute_result"
    }
   ],
   "source": [
    "lda.show_topic(topicid=75, topn=20)"
   ]
  },
  {
   "cell_type": "code",
   "execution_count": 163,
   "metadata": {},
   "outputs": [
    {
     "data": {
      "text/plain": [
       "[('information', 0.1),\n",
       " ('mobile', 0.1),\n",
       " ('network', 0.1),\n",
       " ('paper', 0.1),\n",
       " ('attack', 0.1),\n",
       " ('iris', 0.1),\n",
       " ('proposed', 0.1),\n",
       " ('recognition', 0.1),\n",
       " ('spoofing', 0.1),\n",
       " ('architecture', 0.1)]"
      ]
     },
     "execution_count": 163,
     "metadata": {},
     "output_type": "execute_result"
    }
   ],
   "source": [
    "lda.show_topic(topicid=39, topn=20)"
   ]
  },
  {
   "cell_type": "code",
   "execution_count": 164,
   "metadata": {},
   "outputs": [
    {
     "name": "stdout",
     "output_type": "stream",
     "text": [
      "0\n"
     ]
    }
   ],
   "source": [
    "# select and article at random from train_df\n",
    "random_article_index = np.random.randint(len(train_df))\n",
    "bow = dictionary.doc2bow(train_df.iloc[random_article_index,1])\n",
    "print(random_article_index)"
   ]
  },
  {
   "cell_type": "code",
   "execution_count": 165,
   "metadata": {},
   "outputs": [
    {
     "name": "stdout",
     "output_type": "stream",
     "text": [
      "['information', 'network', 'paper', 'network', 'mobile', 'network', 'network']\n"
     ]
    }
   ],
   "source": [
    "print(train_df.iloc[random_article_index,1])"
   ]
  },
  {
   "cell_type": "code",
   "execution_count": 166,
   "metadata": {},
   "outputs": [],
   "source": [
    "doc_distribution = np.array([tup[1] for tup in lda.get_document_topics(bow=bow)])"
   ]
  },
  {
   "cell_type": "code",
   "execution_count": 167,
   "metadata": {},
   "outputs": [
    {
     "data": {
      "image/png": "[encoded data removed]",
      "text/plain": [
       "<Figure size 864x432 with 1 Axes>"
      ]
     },
     "metadata": {},
     "output_type": "display_data"
    }
   ],
   "source": [
    "# bar plot of topic distribution for this document\n",
    "fig, ax = plt.subplots(figsize=(12,6));\n",
    "# the histogram of the data\n",
    "patches = ax.bar(np.arange(len(doc_distribution)), doc_distribution)\n",
    "ax.set_xlabel('Topic ID', fontsize=15)\n",
    "ax.set_ylabel('Topic Contribution', fontsize=15)\n",
    "ax.set_title(\"Topic Distribution for Article \" + str(random_article_index), fontsize=20)\n",
    "ax.set_xticks(np.linspace(10,100,10))\n",
    "fig.tight_layout()\n",
    "plt.show()"
   ]
  },
  {
   "cell_type": "code",
   "execution_count": 168,
   "metadata": {},
   "outputs": [
    {
     "name": "stdout",
     "output_type": "stream",
     "text": [
      "44 [('network', 0.5680854), ('information', 0.14255312), ('mobile', 0.1425531), ('paper', 0.1425531), ('attack', 0.00070922077), ('iris', 0.00070922077), ('proposed', 0.00070922077), ('recognition', 0.00070922077), ('spoofing', 0.00070922077), ('architecture', 0.00070922077)] \n",
      "\n",
      "99 [('information', 0.1), ('mobile', 0.1), ('network', 0.1), ('paper', 0.1), ('attack', 0.1), ('iris', 0.1), ('proposed', 0.1), ('recognition', 0.1), ('spoofing', 0.1), ('architecture', 0.1)] \n",
      "\n",
      "36 [('information', 0.1), ('mobile', 0.1), ('network', 0.1), ('paper', 0.1), ('attack', 0.1), ('iris', 0.1), ('proposed', 0.1), ('recognition', 0.1), ('spoofing', 0.1), ('architecture', 0.1)] \n",
      "\n",
      "26 [('information', 0.1), ('mobile', 0.1), ('network', 0.1), ('paper', 0.1), ('attack', 0.1), ('iris', 0.1), ('proposed', 0.1), ('recognition', 0.1), ('spoofing', 0.1), ('architecture', 0.1)] \n",
      "\n",
      "27 [('information', 0.1), ('mobile', 0.1), ('network', 0.1), ('paper', 0.1), ('attack', 0.1), ('iris', 0.1), ('proposed', 0.1), ('recognition', 0.1), ('spoofing', 0.1), ('architecture', 0.1)] \n",
      "\n"
     ]
    }
   ],
   "source": [
    "# print the top 5 contributing topics and their words\n",
    "for i in doc_distribution.argsort()[-5:][::-1]:\n",
    "    print(i, lda.show_topic(topicid=i, topn=10), \"\\n\")\n"
   ]
  },
  {
   "cell_type": "code",
   "execution_count": 169,
   "metadata": {},
   "outputs": [
    {
     "name": "stdout",
     "output_type": "stream",
     "text": [
      "0\n"
     ]
    }
   ],
   "source": [
    "# select and article at random from test_df\n",
    "random_article_index = np.random.randint(len(test_df))\n",
    "print(random_article_index)"
   ]
  },
  {
   "cell_type": "code",
   "execution_count": 170,
   "metadata": {},
   "outputs": [],
   "source": [
    "new_bow = dictionary.doc2bow(test_df.iloc[random_article_index,1])"
   ]
  },
  {
   "cell_type": "code",
   "execution_count": 171,
   "metadata": {},
   "outputs": [
    {
     "name": "stdout",
     "output_type": "stream",
     "text": [
      "['paper', 'mobile', 'wireless', 'technology', 'paper', 'mobile', 'wireless', 'technology', 'mobile', 'wireless', 'technology', 'mobile', 'wireless', 'technology', 'technology', 'technology', 'wireless', 'wireless', 'wireless', 'paper', 'network', 'architecture', 'mobile', 'proposed', 'architecture', 'mobile', 'technology', 'network', 'architecture']\n"
     ]
    }
   ],
   "source": [
    "print(test_df.iloc[random_article_index,1])"
   ]
  },
  {
   "cell_type": "code",
   "execution_count": 172,
   "metadata": {},
   "outputs": [
    {
     "name": "stdout",
     "output_type": "stream",
     "text": [
      "['paper', 'mobile', 'wireless', 'technology', 'paper', 'mobile', 'wireless', 'technology', 'mobile', 'wireless', 'technology', 'mobile', 'wireless', 'technology', 'technology', 'technology', 'wireless', 'wireless', 'wireless', 'paper', 'network', 'architecture', 'mobile', 'proposed', 'architecture', 'mobile', 'technology', 'network', 'architecture']\n"
     ]
    }
   ],
   "source": [
    "print(test_df.iloc[random_article_index,1])"
   ]
  },
  {
   "cell_type": "code",
   "execution_count": 173,
   "metadata": {},
   "outputs": [],
   "source": [
    "new_doc_distribution = np.array([tup[1] for tup in lda.get_document_topics(bow=new_bow)])"
   ]
  },
  {
   "cell_type": "code",
   "execution_count": 174,
   "metadata": {},
   "outputs": [
    {
     "data": {
      "image/png": "[encoded data removed]",
      "text/plain": [
       "<Figure size 864x432 with 1 Axes>"
      ]
     },
     "metadata": {},
     "output_type": "display_data"
    }
   ],
   "source": [
    "\n",
    "\n",
    "# bar plot of topic distribution for this document\n",
    "fig, ax = plt.subplots(figsize=(12,6));\n",
    "# the histogram of the data\n",
    "patches = ax.bar(np.arange(len(new_doc_distribution)), new_doc_distribution)\n",
    "ax.set_xlabel('Topic ID', fontsize=15)\n",
    "ax.set_ylabel('Topic Contribution', fontsize=15)\n",
    "ax.set_title(\"Topic Distribution for an Unseen Article\", fontsize=20)\n",
    "ax.set_xticks(np.linspace(10,100,10))\n",
    "fig.tight_layout()\n",
    "plt.show()\n",
    "\n"
   ]
  },
  {
   "cell_type": "code",
   "execution_count": 175,
   "metadata": {},
   "outputs": [
    {
     "name": "stdout",
     "output_type": "stream",
     "text": [
      "44 [('network', 0.5680854), ('information', 0.14255312), ('mobile', 0.1425531), ('paper', 0.1425531), ('attack', 0.00070922077), ('iris', 0.00070922077), ('proposed', 0.00070922077), ('recognition', 0.00070922077), ('spoofing', 0.00070922077), ('architecture', 0.00070922077)] \n",
      "\n",
      "58 [('architecture', 0.4966943), ('proposed', 0.33140495), ('network', 0.16611566), ('information', 0.0008264474), ('mobile', 0.0008264474), ('paper', 0.0008264474), ('attack', 0.0008264474), ('iris', 0.0008264474), ('recognition', 0.0008264474), ('spoofing', 0.0008264474)] \n",
      "\n",
      "99 [('information', 0.1), ('mobile', 0.1), ('network', 0.1), ('paper', 0.1), ('attack', 0.1), ('iris', 0.1), ('proposed', 0.1), ('recognition', 0.1), ('spoofing', 0.1), ('architecture', 0.1)] \n",
      "\n",
      "35 [('iris', 0.31183815), ('spoofing', 0.18722749), ('paper', 0.18722743), ('attack', 0.124922104), ('recognition', 0.12492209), ('information', 0.062616736), ('mobile', 0.00031152694), ('network', 0.00031152694), ('proposed', 0.00031152694), ('architecture', 0.00031152694)] \n",
      "\n",
      "26 [('information', 0.1), ('mobile', 0.1), ('network', 0.1), ('paper', 0.1), ('attack', 0.1), ('iris', 0.1), ('proposed', 0.1), ('recognition', 0.1), ('spoofing', 0.1), ('architecture', 0.1)] \n",
      "\n"
     ]
    }
   ],
   "source": [
    "# print the top 8 contributing topics and their words\n",
    "for i in new_doc_distribution.argsort()[-5:][::-1]:\n",
    "    print(i, lda.show_topic(topicid=i, topn=10), \"\\n\")"
   ]
  },
  {
   "cell_type": "code",
   "execution_count": 176,
   "metadata": {},
   "outputs": [
    {
     "data": {
      "text/plain": [
       "(4, 100)"
      ]
     },
     "execution_count": 176,
     "metadata": {},
     "output_type": "execute_result"
    }
   ],
   "source": [
    "# we need to use nested list comprehension here\n",
    "# this may take 1-2 minutes...\n",
    "doc_topic_dist = np.array([[tup[1] for tup in lst] for lst in lda[corpus]])\n",
    "doc_topic_dist.shape"
   ]
  },
  {
   "cell_type": "code",
   "execution_count": 178,
   "metadata": {},
   "outputs": [],
   "source": [
    "def jensen_shannon(query, matrix):\n",
    "    \"\"\"\n",
    "    This function implements a Jensen-Shannon similarity\n",
    "    between the input query (an LDA topic distribution for a document)\n",
    "    and the entire corpus of topic distributions.\n",
    "    It returns an array of length M where M is the number of documents in the corpus\n",
    "    \"\"\"\n",
    "    # lets keep with the p,q notation above\n",
    "    p = query[None,:].T # take transpose\n",
    "    q = matrix.T # transpose matrix\n",
    "    m = 0.5*(p + q)\n",
    "    return np.sqrt(0.5*(entropy(p,m) + entropy(q,m)))\n"
   ]
  },
  {
   "cell_type": "code",
   "execution_count": 179,
   "metadata": {},
   "outputs": [],
   "source": [
    "def get_most_similar_documents(query,matrix,k=10):\n",
    "    \"\"\"\n",
    "    This function implements the Jensen-Shannon distance above\n",
    "    and retruns the top k indices of the smallest jensen shannon distances\n",
    "    \"\"\"\n",
    "    sims = jensen_shannon(query,matrix) # list of jensen shannon distances\n",
    "    return sims.argsort()[:k] # the top k positional index of the smallest Jensen Shannon distances"
   ]
  },
  {
   "cell_type": "code",
   "execution_count": 180,
   "metadata": {},
   "outputs": [],
   "source": [
    "# this is surprisingly fast\n",
    "most_sim_ids = get_most_similar_documents(new_doc_distribution,doc_topic_dist)\n"
   ]
  },
  {
   "cell_type": "code",
   "execution_count": 181,
   "metadata": {},
   "outputs": [
    {
     "data": {
      "text/plain": [
       "0    Abstract.In operations of increasingly complex...\n",
       "1    Human iris is considered a reliable and accura...\n",
       "2    ABSTRACT We focus on the problem of designing ...\n",
       "3    Abstract—Human iris contains rich textural inf...\n",
       "Name: abstract, dtype: object"
      ]
     },
     "execution_count": 181,
     "metadata": {},
     "output_type": "execute_result"
    }
   ],
   "source": [
    "most_similar_df = train_df[train_df.index.isin(most_sim_ids)]\n",
    "most_similar_df['abstract']"
   ]
  },
  {
   "cell_type": "code",
   "execution_count": null,
   "metadata": {},
   "outputs": [],
   "source": []
  },
  {
   "cell_type": "code",
   "execution_count": null,
   "metadata": {},
   "outputs": [],
   "source": []
  }
 ],
 "metadata": {
  "kernelspec": {
   "display_name": "Python 3",
   "language": "python",
   "name": "python3"
  },
  "language_info": {
   "codemirror_mode": {
    "name": "ipython",
    "version": 3
   },
   "file_extension": ".py",
   "mimetype": "text/x-python",
   "name": "python",
   "nbconvert_exporter": "python",
   "pygments_lexer": "ipython3",
   "version": "3.6.8"
  },
  "pycharm": {
   "stem_cell": {
    "cell_type": "raw",
    "metadata": {
     "collapsed": false
    },
    "source": []
   }
  }
 },
 "nbformat": 4,
 "nbformat_minor": 2
}
