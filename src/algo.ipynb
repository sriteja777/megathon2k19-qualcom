{
 "cells": [
  {
   "cell_type": "code",
   "execution_count": 1,
   "metadata": {
    "pycharm": {
     "is_executing": false
    }
   },
   "outputs": [],
   "source": [
    "# import dependencies\n",
    "%matplotlib inline\n",
    "import pandas as pd\n",
    "import numpy as np\n",
    "import nltk\n",
    "from nltk.corpus import stopwords\n",
    "import gensim\n",
    "from gensim.models import LdaModel\n",
    "from gensim import models, corpora, similarities\n",
    "import re\n",
    "from nltk.stem.porter import PorterStemmer\n",
    "import time\n",
    "from nltk import FreqDist\n",
    "from scipy.stats import entropy\n",
    "import matplotlib.pyplot as plt\n",
    "import seaborn as sns\n",
    "sns.set_style(\"darkgrid\")\n"
   ]
  },
  {
   "cell_type": "code",
   "execution_count": 2,
   "metadata": {
    "pycharm": {
     "is_executing": false,
     "name": "#%%\n"
    }
   },
   "outputs": [
    {
     "data": {
      "text/html": [
       "<div>\n",
       "<style scoped>\n",
       "    .dataframe tbody tr th:only-of-type {\n",
       "        vertical-align: middle;\n",
       "    }\n",
       "\n",
       "    .dataframe tbody tr th {\n",
       "        vertical-align: top;\n",
       "    }\n",
       "\n",
       "    .dataframe thead th {\n",
       "        text-align: right;\n",
       "    }\n",
       "</style>\n",
       "<table border=\"1\" class=\"dataframe\">\n",
       "  <thead>\n",
       "    <tr style=\"text-align: right;\">\n",
       "      <th></th>\n",
       "      <th>abstract</th>\n",
       "    </tr>\n",
       "  </thead>\n",
       "  <tbody>\n",
       "    <tr>\n",
       "      <td>0</td>\n",
       "      <td>Abstract—Human iris contains rich textural inf...</td>\n",
       "    </tr>\n",
       "    <tr>\n",
       "      <td>1</td>\n",
       "      <td>Abstract:In  this  paper,  an  attempt  has  b...</td>\n",
       "    </tr>\n",
       "    <tr>\n",
       "      <td>2</td>\n",
       "      <td>Iris recognition systems are vulnerable to pre...</td>\n",
       "    </tr>\n",
       "    <tr>\n",
       "      <td>3</td>\n",
       "      <td>Human iris is considered a reliable and accura...</td>\n",
       "    </tr>\n",
       "    <tr>\n",
       "      <td>4</td>\n",
       "      <td>Abstract.In operations of increasingly complex...</td>\n",
       "    </tr>\n",
       "  </tbody>\n",
       "</table>\n",
       "</div>"
      ],
      "text/plain": [
       "                                            abstract\n",
       "0  Abstract—Human iris contains rich textural inf...\n",
       "1  Abstract:In  this  paper,  an  attempt  has  b...\n",
       "2  Iris recognition systems are vulnerable to pre...\n",
       "3  Human iris is considered a reliable and accura...\n",
       "4  Abstract.In operations of increasingly complex..."
      ]
     },
     "execution_count": 2,
     "metadata": {},
     "output_type": "execute_result"
    }
   ],
   "source": [
    "# df = pd.read_csv('fake.csv', usecols = ['uuid','author','title','text','language','site_url','country'])\n",
    "df = pd.read_csv('../summaries.csv', )\n",
    "# df = df[df.language == 'english']\n",
    "# df = df[df['text'].map(type) == str]\n",
    "# df['title'].fillna(value=\"\", inplace=True)\n",
    "# df.dropna(axis=0, inplace=True, subset=['text'])\n",
    "# shuffle the data\n",
    "df = df.sample(frac=1.0)\n",
    "df.reset_index(drop=True,inplace=True)\n",
    "df.head()"
   ]
  },
  {
   "cell_type": "code",
   "execution_count": 3,
   "metadata": {
    "pycharm": {
     "is_executing": false,
     "name": "#%%\n"
    }
   },
   "outputs": [],
   "source": [
    "def initial_clean(text):\n",
    "    \"\"\"\n",
    "    Function to clean text of websites, email addresess and any punctuation\n",
    "    We also lower case the text\n",
    "    \"\"\"\n",
    "    text = re.sub(\"((\\S+)?(http(s)?)(\\S+))|((\\S+)?(www)(\\S+))|((\\S+)?(\\@)(\\S+)?)\", \" \", text)\n",
    "    text = re.sub(\"[^a-zA-Z ]\", \"\", text)\n",
    "    text = text.lower() # lower case the text\n",
    "    text = nltk.word_tokenize(text)\n",
    "    return text\n",
    "\n",
    "stop_words = stopwords.words('english')\n",
    "def remove_stop_words(text):\n",
    "    \"\"\"\n",
    "    Function that removes all stopwords from text\n",
    "    \"\"\"\n",
    "    return [word for word in text if word not in stop_words]\n",
    "\n",
    "stemmer = PorterStemmer()\n",
    "def stem_words(text):\n",
    "    \"\"\"\n",
    "    Function to stem words, so plural and singular are treated the same\n",
    "    \"\"\"\n",
    "    try:\n",
    "        text = [stemmer.stem(word) for word in text]\n",
    "        text = [word for word in text if len(word) > 1] # make sure we have no 1 letter words\n",
    "    except IndexError: # the word \"oed\" broke this, so needed try except\n",
    "        pass\n",
    "    return text\n",
    "\n",
    "def apply_all(text):\n",
    "    \"\"\"\n",
    "    This function applies all the functions above into one\n",
    "    \"\"\"\n",
    "    return stem_words(remove_stop_words(initial_clean(text)))\n",
    "\n"
   ]
  },
  {
   "cell_type": "code",
   "execution_count": 4,
   "metadata": {
    "pycharm": {
     "is_executing": false,
     "name": "#%%\n"
    }
   },
   "outputs": [
    {
     "name": "stdout",
     "output_type": "stream",
     "text": [
      "Time to clean and tokenize 6 articles: 0.0033227205276489258 min\n"
     ]
    }
   ],
   "source": [
    "# clean text and title and create new column \"tokenized\"\n",
    "t1 = time.time()\n",
    "df['tokenized'] = df['abstract'].apply(apply_all) #+ df['title'].apply(apply_all)\n",
    "t2 = time.time()\n",
    "print(\"Time to clean and tokenize\", len(df), \"articles:\", (t2-t1)/60, \"min\")\n",
    "\n"
   ]
  },
  {
   "cell_type": "code",
   "execution_count": 7,
   "metadata": {
    "pycharm": {
     "is_executing": false,
     "name": "#%%\n"
    }
   },
   "outputs": [
    {
     "data": {
      "text/plain": [
       "352"
      ]
     },
     "execution_count": 7,
     "metadata": {},
     "output_type": "execute_result"
    }
   ],
   "source": [
    "# first get a list of all words\n",
    "all_words = [word for item in list(df['tokenized']) for word in item]\n",
    "# use nltk fdist to get a frequency distribution of all words\n",
    "fdist = FreqDist(all_words)\n",
    "len(fdist) # number of unique words"
   ]
  },
  {
   "cell_type": "code",
   "execution_count": 8,
   "metadata": {
    "pycharm": {
     "is_executing": false,
     "name": "#%%\n"
    }
   },
   "outputs": [
    {
     "data": {
      "text/plain": [
       "[('reveal', 1),\n",
       " ('solut', 1),\n",
       " ('limit', 1),\n",
       " ('total', 1),\n",
       " ('ableto', 1),\n",
       " ('ensur', 1),\n",
       " ('areaskeyword', 1),\n",
       " ('uavbas', 1),\n",
       " ('ring', 1),\n",
       " ('minim', 1)]"
      ]
     },
     "execution_count": 8,
     "metadata": {},
     "output_type": "execute_result"
    }
   ],
   "source": [
    "# choose k and visually inspect the bottom 10 words of the top k\n",
    "k = 50000\n",
    "top_k_words = fdist.most_common(k)\n",
    "top_k_words[-10:]\n"
   ]
  },
  {
   "cell_type": "code",
   "execution_count": 9,
   "metadata": {
    "pycharm": {
     "is_executing": false,
     "name": "#%%\n"
    }
   },
   "outputs": [
    {
     "data": {
      "text/plain": [
       "[('reveal', 1),\n",
       " ('solut', 1),\n",
       " ('limit', 1),\n",
       " ('total', 1),\n",
       " ('ableto', 1),\n",
       " ('ensur', 1),\n",
       " ('areaskeyword', 1),\n",
       " ('uavbas', 1),\n",
       " ('ring', 1),\n",
       " ('minim', 1)]"
      ]
     },
     "execution_count": 9,
     "metadata": {},
     "output_type": "execute_result"
    }
   ],
   "source": [
    "# choose k and visually inspect the bottom 10 words of the top k\n",
    "k = 15000\n",
    "top_k_words = fdist.most_common(k)\n",
    "top_k_words[-10:]\n",
    "\n"
   ]
  },
  {
   "cell_type": "code",
   "execution_count": 10,
   "metadata": {
    "pycharm": {
     "is_executing": false,
     "name": "#%%\n"
    }
   },
   "outputs": [],
   "source": [
    "# define a function only to keep words in the top k words\n",
    "top_k_words,_ = zip(*fdist.most_common(k))\n",
    "top_k_words = set(top_k_words)\n",
    "def keep_top_k_words(text):\n",
    "    return [word for word in text if word in top_k_words]"
   ]
  },
  {
   "cell_type": "code",
   "execution_count": 11,
   "metadata": {
    "pycharm": {
     "is_executing": false,
     "name": "#%%\n"
    }
   },
   "outputs": [],
   "source": [
    "df['tokenized'] = df['tokenized'].apply(keep_top_k_words)"
   ]
  },
  {
   "cell_type": "code",
   "execution_count": 12,
   "metadata": {
    "pycharm": {
     "is_executing": false,
     "name": "#%%\n"
    }
   },
   "outputs": [
    {
     "name": "stdout",
     "output_type": "stream",
     "text": [
      "length of list: 6 \n",
      "average document length 96.83333333333333 \n",
      "minimum document length 61 \n",
      "maximum document length 135\n"
     ]
    }
   ],
   "source": [
    "\n",
    "\n",
    "# document length\n",
    "df['doc_len'] = df['tokenized'].apply(lambda x: len(x))\n",
    "doc_lengths = list(df['doc_len'])\n",
    "df.drop(labels='doc_len', axis=1, inplace=True)\n",
    "\n",
    "print(\"length of list:\",len(doc_lengths),\n",
    "      \"\\naverage document length\", np.average(doc_lengths),\n",
    "      \"\\nminimum document length\", min(doc_lengths),\n",
    "      \"\\nmaximum document length\", max(doc_lengths))\n",
    "\n",
    "\n"
   ]
  },
  {
   "cell_type": "code",
   "execution_count": 22,
   "metadata": {
    "pycharm": {
     "is_executing": false,
     "name": "#%%\n"
    }
   },
   "outputs": [
    {
     "name": "stderr",
     "output_type": "stream",
     "text": [
      "/home/sriteja/venv/megathon2k19/lib/python3.6/site-packages/ipykernel_launcher.py:5: MatplotlibDeprecationWarning: \n",
      "The 'normed' kwarg was deprecated in Matplotlib 2.1 and will be removed in 3.1. Use 'density' instead.\n",
      "  \"\"\"\n"
     ]
    },
    {
     "data": {
      "image/png": "[encoded data removed]",
      "text/plain": [
       "<Figure size 864x432 with 1 Axes>"
      ]
     },
     "metadata": {
      "needs_background": "light"
     },
     "output_type": "display_data"
    },
    {
     "name": "stdout",
     "output_type": "stream",
     "text": [
      "[96.83333333333333, 96.83333333333333, 96.83333333333333, 96.83333333333333, 96.83333333333333, 96.83333333333333, 96.83333333333333, 96.83333333333333, 96.83333333333333, 96.83333333333333, 96.83333333333333, 96.83333333333333, 96.83333333333333, 96.83333333333333, 96.83333333333333, 96.83333333333333, 96.83333333333333, 96.83333333333333, 96.83333333333333, 96.83333333333333, 96.83333333333333, 96.83333333333333, 96.83333333333333, 96.83333333333333, 96.83333333333333, 96.83333333333333, 96.83333333333333, 96.83333333333333, 96.83333333333333, 96.83333333333333, 96.83333333333333, 96.83333333333333, 96.83333333333333, 96.83333333333333, 96.83333333333333, 96.83333333333333, 96.83333333333333, 96.83333333333333, 96.83333333333333, 96.83333333333333, 96.83333333333333, 96.83333333333333, 96.83333333333333, 96.83333333333333, 96.83333333333333, 96.83333333333333, 96.83333333333333, 96.83333333333333, 96.83333333333333, 96.83333333333333, 96.83333333333333, 96.83333333333333, 96.83333333333333, 96.83333333333333, 96.83333333333333, 96.83333333333333, 96.83333333333333, 96.83333333333333, 96.83333333333333, 96.83333333333333, 96.83333333333333, 96.83333333333333, 96.83333333333333, 96.83333333333333, 96.83333333333333, 96.83333333333333, 96.83333333333333, 96.83333333333333, 96.83333333333333, 96.83333333333333, 96.83333333333333, 96.83333333333333, 96.83333333333333, 96.83333333333333, 96.83333333333333, 96.83333333333333, 96.83333333333333, 96.83333333333333, 96.83333333333333, 96.83333333333333, 96.83333333333333, 96.83333333333333, 96.83333333333333, 96.83333333333333, 96.83333333333333, 96.83333333333333, 96.83333333333333, 96.83333333333333, 96.83333333333333, 96.83333333333333, 96.83333333333333, 96.83333333333333, 96.83333333333333, 96.83333333333333, 96.83333333333333, 96.83333333333333, 96.83333333333333, 96.83333333333333, 96.83333333333333, 96.83333333333333]\n"
     ]
    }
   ],
   "source": [
    "# plot a histogram of document length\n",
    "num_bins = 5\n",
    "fig, ax = plt.subplots(figsize=(12,6));\n",
    "# the histogram of the data\n",
    "n, bins, patches = ax.hist(doc_lengths, num_bins, normed=1)\n",
    "ax.set_xlabel('Document Length (tokens)', fontsize=15)\n",
    "ax.set_ylabel('Normed Frequency', fontsize=15)\n",
    "ax.grid()\n",
    "ax.set_xticks(np.logspace(start=np.log10(50),stop=np.log10(2000),num=8, base=10.0))\n",
    "plt.xlim(0,2000)\n",
    "ax.plot([np.average(doc_lengths) for i in np.linspace(0.0,0.0035,100)], np.linspace(0.0,0.0035,100), '-',\n",
    "        label='average doc length')\n",
    "ax.legend()\n",
    "ax.grid()\n",
    "fig.tight_layout()\n",
    "plt.show()\n",
    "\n",
    "print([np.average(doc_lengths) for i in np.linspace(0.0,0.0035,100)])"
   ]
  },
  {
   "cell_type": "code",
   "execution_count": 32,
   "metadata": {
    "pycharm": {
     "is_executing": false,
     "name": "#%%\n"
    }
   },
   "outputs": [],
   "source": [
    "msk = np.random.rand(len(df)) < 0.7\n"
   ]
  },
  {
   "cell_type": "code",
   "execution_count": 33,
   "metadata": {},
   "outputs": [],
   "source": [
    "\n",
    "\n",
    "train_df = df[msk]\n",
    "train_df.reset_index(drop=True,inplace=True)"
   ]
  },
  {
   "cell_type": "code",
   "execution_count": 34,
   "metadata": {},
   "outputs": [],
   "source": [
    "test_df = df[~msk]\n",
    "test_df.reset_index(drop=True,inplace=True)"
   ]
  },
  {
   "cell_type": "code",
   "execution_count": 35,
   "metadata": {},
   "outputs": [
    {
     "name": "stdout",
     "output_type": "stream",
     "text": [
      "6 4 2\n"
     ]
    }
   ],
   "source": [
    "print(len(df),len(train_df),len(test_df))"
   ]
  },
  {
   "cell_type": "code",
   "execution_count": 36,
   "metadata": {},
   "outputs": [],
   "source": [
    "def train_lda(data):\n",
    "    \"\"\"\n",
    "    This function trains the lda model\n",
    "    We setup parameters like number of topics, the chunksize to use in Hoffman method\n",
    "    We also do 2 passes of the data since this is a small dataset, so we want the distributions to stabilize\n",
    "    \"\"\"\n",
    "    num_topics = 100\n",
    "    chunksize = 300\n",
    "    dictionary = corpora.Dictionary(data['tokenized'])\n",
    "    corpus = [dictionary.doc2bow(doc) for doc in data['tokenized']]\n",
    "    t1 = time.time()\n",
    "    # low alpha means each document is only represented by a small number of topics, and vice versa\n",
    "    # low eta means each topic is only represented by a small number of words, and vice versa\n",
    "    lda = LdaModel(corpus=corpus, num_topics=num_topics, id2word=dictionary,\n",
    "                   alpha=1e-2, eta=0.5e-2, chunksize=chunksize, minimum_probability=0.0, passes=2)\n",
    "    t2 = time.time()\n",
    "    print(\"Time to train LDA model on \", len(df), \"articles: \", (t2-t1)/60, \"min\")\n",
    "    return dictionary,corpus,lda"
   ]
  },
  {
   "cell_type": "code",
   "execution_count": 37,
   "metadata": {},
   "outputs": [
    {
     "name": "stdout",
     "output_type": "stream",
     "text": [
      "Time to train LDA model on  6 articles:  0.006915450096130371 min\n"
     ]
    }
   ],
   "source": [
    "dictionary,corpus,lda = train_lda(train_df)"
   ]
  },
  {
   "cell_type": "code",
   "execution_count": 38,
   "metadata": {},
   "outputs": [
    {
     "data": {
      "text/plain": [
       "[(43,\n",
       "  '0.004*\"manag\" + 0.004*\"statist\" + 0.004*\"semant\" + 0.004*\"mln\" + 0.004*\"approach\" + 0.004*\"logic\" + 0.004*\"inth\" + 0.004*\"interfac\" + 0.004*\"indicatethat\" + 0.004*\"increasingli\" + 0.004*\"give\" + 0.004*\"facet\" + 0.004*\"effectivelyutil\" + 0.004*\"control\" + 0.004*\"complex\" + 0.004*\"choos\" + 0.004*\"character\" + 0.004*\"model\" + 0.004*\"reason\" + 0.004*\"state\"'),\n",
       " (87,\n",
       "  '0.004*\"manag\" + 0.004*\"statist\" + 0.004*\"semant\" + 0.004*\"mln\" + 0.004*\"approach\" + 0.004*\"logic\" + 0.004*\"inth\" + 0.004*\"interfac\" + 0.004*\"indicatethat\" + 0.004*\"increasingli\" + 0.004*\"give\" + 0.004*\"facet\" + 0.004*\"effectivelyutil\" + 0.004*\"control\" + 0.004*\"complex\" + 0.004*\"choos\" + 0.004*\"character\" + 0.004*\"model\" + 0.004*\"reason\" + 0.004*\"state\"'),\n",
       " (0,\n",
       "  '0.004*\"manag\" + 0.004*\"statist\" + 0.004*\"semant\" + 0.004*\"mln\" + 0.004*\"approach\" + 0.004*\"logic\" + 0.004*\"inth\" + 0.004*\"interfac\" + 0.004*\"indicatethat\" + 0.004*\"increasingli\" + 0.004*\"give\" + 0.004*\"facet\" + 0.004*\"effectivelyutil\" + 0.004*\"control\" + 0.004*\"complex\" + 0.004*\"choos\" + 0.004*\"character\" + 0.004*\"model\" + 0.004*\"reason\" + 0.004*\"state\"'),\n",
       " (65,\n",
       "  '0.046*\"iri\" + 0.037*\"attack\" + 0.030*\"spoof\" + 0.024*\"imag\" + 0.019*\"network\" + 0.017*\"detect\" + 0.013*\"framework\" + 0.013*\"propos\" + 0.013*\"textur\" + 0.012*\"combin\" + 0.011*\"system\" + 0.011*\"optim\" + 0.011*\"due\" + 0.010*\"mln\" + 0.010*\"recognit\" + 0.010*\"oper\" + 0.010*\"variat\" + 0.009*\"base\" + 0.009*\"paper\" + 0.009*\"inform\"'),\n",
       " (94,\n",
       "  '0.004*\"manag\" + 0.004*\"statist\" + 0.004*\"semant\" + 0.004*\"mln\" + 0.004*\"approach\" + 0.004*\"logic\" + 0.004*\"inth\" + 0.004*\"interfac\" + 0.004*\"indicatethat\" + 0.004*\"increasingli\" + 0.004*\"give\" + 0.004*\"facet\" + 0.004*\"effectivelyutil\" + 0.004*\"control\" + 0.004*\"complex\" + 0.004*\"choos\" + 0.004*\"character\" + 0.004*\"model\" + 0.004*\"reason\" + 0.004*\"state\"'),\n",
       " (59,\n",
       "  '0.087*\"network\" + 0.039*\"optim\" + 0.028*\"mln\" + 0.026*\"abstractin\" + 0.026*\"oper\" + 0.024*\"uncertain\" + 0.023*\"indicatethat\" + 0.021*\"interfac\" + 0.021*\"control\" + 0.021*\"web\" + 0.020*\"statist\" + 0.020*\"util\" + 0.019*\"behavior\" + 0.019*\"implement\" + 0.018*\"choos\" + 0.018*\"visual\" + 0.017*\"give\" + 0.017*\"search\" + 0.017*\"overview\" + 0.017*\"possibl\"'),\n",
       " (84,\n",
       "  '0.004*\"manag\" + 0.004*\"statist\" + 0.004*\"semant\" + 0.004*\"mln\" + 0.004*\"approach\" + 0.004*\"logic\" + 0.004*\"inth\" + 0.004*\"interfac\" + 0.004*\"indicatethat\" + 0.004*\"increasingli\" + 0.004*\"give\" + 0.004*\"facet\" + 0.004*\"effectivelyutil\" + 0.004*\"control\" + 0.004*\"complex\" + 0.004*\"choos\" + 0.004*\"character\" + 0.004*\"model\" + 0.004*\"reason\" + 0.004*\"state\"'),\n",
       " (30,\n",
       "  '0.004*\"manag\" + 0.004*\"statist\" + 0.004*\"semant\" + 0.004*\"mln\" + 0.004*\"approach\" + 0.004*\"logic\" + 0.004*\"inth\" + 0.004*\"interfac\" + 0.004*\"indicatethat\" + 0.004*\"increasingli\" + 0.004*\"give\" + 0.004*\"facet\" + 0.004*\"effectivelyutil\" + 0.004*\"control\" + 0.004*\"complex\" + 0.004*\"choos\" + 0.004*\"character\" + 0.004*\"model\" + 0.004*\"reason\" + 0.004*\"state\"'),\n",
       " (54,\n",
       "  '0.004*\"manag\" + 0.004*\"statist\" + 0.004*\"semant\" + 0.004*\"mln\" + 0.004*\"approach\" + 0.004*\"logic\" + 0.004*\"inth\" + 0.004*\"interfac\" + 0.004*\"indicatethat\" + 0.004*\"increasingli\" + 0.004*\"give\" + 0.004*\"facet\" + 0.004*\"effectivelyutil\" + 0.004*\"control\" + 0.004*\"complex\" + 0.004*\"choos\" + 0.004*\"character\" + 0.004*\"model\" + 0.004*\"reason\" + 0.004*\"state\"'),\n",
       " (1,\n",
       "  '0.004*\"manag\" + 0.004*\"statist\" + 0.004*\"semant\" + 0.004*\"mln\" + 0.004*\"approach\" + 0.004*\"logic\" + 0.004*\"inth\" + 0.004*\"interfac\" + 0.004*\"indicatethat\" + 0.004*\"increasingli\" + 0.004*\"give\" + 0.004*\"facet\" + 0.004*\"effectivelyutil\" + 0.004*\"control\" + 0.004*\"complex\" + 0.004*\"choos\" + 0.004*\"character\" + 0.004*\"model\" + 0.004*\"reason\" + 0.004*\"state\"')]"
      ]
     },
     "execution_count": 38,
     "metadata": {},
     "output_type": "execute_result"
    }
   ],
   "source": [
    "lda.show_topics(num_topics=10, num_words=20)"
   ]
  },
  {
   "cell_type": "code",
   "execution_count": 39,
   "metadata": {},
   "outputs": [
    {
     "data": {
      "text/plain": [
       "[('wireless', 0.014220184),\n",
       " ('technolog', 0.014142809),\n",
       " ('gener', 0.009924866),\n",
       " ('mobil', 0.009759598),\n",
       " ('network', 0.009220854),\n",
       " ('architectur', 0.0077801687),\n",
       " ('evolut', 0.0076961094),\n",
       " ('paper', 0.007663977),\n",
       " ('develop', 0.0069567487),\n",
       " ('advantag', 0.0067995745),\n",
       " ('research', 0.006757126),\n",
       " ('made', 0.0061327494),\n",
       " ('term', 0.0058829915),\n",
       " ('web', 0.005641575),\n",
       " ('light', 0.0055822968),\n",
       " ('adhoc', 0.005404452),\n",
       " ('variou', 0.005359818),\n",
       " ('dynam', 0.0052793697),\n",
       " ('user', 0.0052485922),\n",
       " ('propos', 0.0052205534)]"
      ]
     },
     "execution_count": 39,
     "metadata": {},
     "output_type": "execute_result"
    }
   ],
   "source": [
    "lda.show_topic(topicid=4, topn=20)"
   ]
  },
  {
   "cell_type": "code",
   "execution_count": 40,
   "metadata": {},
   "outputs": [
    {
     "data": {
      "text/plain": [
       "[('manag', 0.003984064),\n",
       " ('statist', 0.003984064),\n",
       " ('semant', 0.003984064),\n",
       " ('mln', 0.003984064),\n",
       " ('approach', 0.003984064),\n",
       " ('logic', 0.003984064),\n",
       " ('inth', 0.003984064),\n",
       " ('interfac', 0.003984064),\n",
       " ('indicatethat', 0.003984064),\n",
       " ('increasingli', 0.003984064),\n",
       " ('give', 0.003984064),\n",
       " ('facet', 0.003984064),\n",
       " ('effectivelyutil', 0.003984064),\n",
       " ('control', 0.003984064),\n",
       " ('complex', 0.003984064),\n",
       " ('choos', 0.003984064),\n",
       " ('character', 0.003984064),\n",
       " ('model', 0.003984064),\n",
       " ('reason', 0.003984064),\n",
       " ('state', 0.003984064)]"
      ]
     },
     "execution_count": 40,
     "metadata": {},
     "output_type": "execute_result"
    }
   ],
   "source": [
    "lda.show_topic(topicid=75, topn=20)"
   ]
  },
  {
   "cell_type": "code",
   "execution_count": 41,
   "metadata": {},
   "outputs": [
    {
     "data": {
      "text/plain": [
       "[('manag', 0.003984064),\n",
       " ('statist', 0.003984064),\n",
       " ('semant', 0.003984064),\n",
       " ('mln', 0.003984064),\n",
       " ('approach', 0.003984064),\n",
       " ('logic', 0.003984064),\n",
       " ('inth', 0.003984064),\n",
       " ('interfac', 0.003984064),\n",
       " ('indicatethat', 0.003984064),\n",
       " ('increasingli', 0.003984064),\n",
       " ('give', 0.003984064),\n",
       " ('facet', 0.003984064),\n",
       " ('effectivelyutil', 0.003984064),\n",
       " ('control', 0.003984064),\n",
       " ('complex', 0.003984064),\n",
       " ('choos', 0.003984064),\n",
       " ('character', 0.003984064),\n",
       " ('model', 0.003984064),\n",
       " ('reason', 0.003984064),\n",
       " ('state', 0.003984064)]"
      ]
     },
     "execution_count": 41,
     "metadata": {},
     "output_type": "execute_result"
    }
   ],
   "source": [
    "lda.show_topic(topicid=39, topn=20)"
   ]
  },
  {
   "cell_type": "code",
   "execution_count": 44,
   "metadata": {},
   "outputs": [
    {
     "name": "stdout",
     "output_type": "stream",
     "text": [
      "0\n"
     ]
    }
   ],
   "source": [
    "# select and article at random from train_df\n",
    "random_article_index = np.random.randint(len(train_df))\n",
    "bow = dictionary.doc2bow(train_df.iloc[random_article_index,1])\n",
    "print(random_article_index)"
   ]
  },
  {
   "cell_type": "code",
   "execution_count": 47,
   "metadata": {},
   "outputs": [
    {
     "name": "stdout",
     "output_type": "stream",
     "text": [
      "['abstractin', 'paper', 'attempt', 'made', 'review', 'variou', 'exist', 'gener', 'mobil', 'wireless', 'technolog', 'term', 'portal', 'perform', 'advantag', 'disadvantag', 'paper', 'throw', 'light', 'evolut', 'develop', 'variou', 'gener', 'mobil', 'wireless', 'technolog', 'along', 'signific', 'advantag', 'one', 'past', 'decad', 'mobil', 'wireless', 'technolog', 'experi', 'gener', 'technolog', 'revolut', 'evolut', 'name', 'gcurrent', 'research', 'mobil', 'wireless', 'technolog', 'concentr', 'advanc', 'implement', 'technolog', 'technolog', 'current', 'term', 'offici', 'use', 'research', 'made', 'develop', 'world', 'wide', 'wireless', 'web', 'wwww', 'dynam', 'adhoc', 'wireless', 'network', 'dawn', 'real', 'wireless', 'worldin', 'paper', 'propos', 'novel', 'network', 'architectur', 'next', 'gener', 'mobil', 'network', 'propos', 'architectur', 'mobil', 'termin', 'possibl', 'chang', 'radio', 'access', 'technolog', 'rat', 'base', 'certain', 'user', 'criteria', 'key', 'concept', 'evolut', 'gg', 'network', 'architectur', 'need']\n"
     ]
    }
   ],
   "source": [
    "print(train_df.iloc[random_article_index,1])"
   ]
  },
  {
   "cell_type": "code",
   "execution_count": 48,
   "metadata": {},
   "outputs": [],
   "source": [
    "doc_distribution = np.array([tup[1] for tup in lda.get_document_topics(bow=bow)])"
   ]
  },
  {
   "cell_type": "code",
   "execution_count": 49,
   "metadata": {},
   "outputs": [
    {
     "data": {
      "image/png": "[encoded data removed]",
      "text/plain": [
       "<Figure size 864x432 with 1 Axes>"
      ]
     },
     "metadata": {
      "needs_background": "light"
     },
     "output_type": "display_data"
    }
   ],
   "source": [
    "# bar plot of topic distribution for this document\n",
    "fig, ax = plt.subplots(figsize=(12,6));\n",
    "# the histogram of the data\n",
    "patches = ax.bar(np.arange(len(doc_distribution)), doc_distribution)\n",
    "ax.set_xlabel('Topic ID', fontsize=15)\n",
    "ax.set_ylabel('Topic Contribution', fontsize=15)\n",
    "ax.set_title(\"Topic Distribution for Article \" + str(random_article_index), fontsize=20)\n",
    "ax.set_xticks(np.linspace(10,100,10))\n",
    "fig.tight_layout()\n",
    "plt.show()"
   ]
  },
  {
   "cell_type": "code",
   "execution_count": 50,
   "metadata": {},
   "outputs": [
    {
     "name": "stdout",
     "output_type": "stream",
     "text": [
      "21 [('technolog', 0.078528464), ('wireless', 0.06868504), ('mobil', 0.05844469), ('network', 0.039732352), ('gener', 0.038365126), ('evolut', 0.029192975), ('architectur', 0.02906015), ('paper', 0.028934829), ('made', 0.019895433), ('propos', 0.019873193)] \n",
      "\n",
      "99 [('give', 0.003984064), ('effectivelyutil', 0.003984064), ('inth', 0.003984064), ('interfac', 0.003984064), ('indicatethat', 0.003984064), ('increasingli', 0.003984064), ('manag', 0.003984064), ('facet', 0.003984064), ('character', 0.003984064), ('complex', 0.003984064)] \n",
      "\n",
      "36 [('give', 0.003984064), ('effectivelyutil', 0.003984064), ('inth', 0.003984064), ('interfac', 0.003984064), ('indicatethat', 0.003984064), ('increasingli', 0.003984064), ('manag', 0.003984064), ('facet', 0.003984064), ('character', 0.003984064), ('complex', 0.003984064)] \n",
      "\n",
      "27 [('give', 0.003984064), ('effectivelyutil', 0.003984064), ('inth', 0.003984064), ('interfac', 0.003984064), ('indicatethat', 0.003984064), ('increasingli', 0.003984064), ('manag', 0.003984064), ('facet', 0.003984064), ('character', 0.003984064), ('complex', 0.003984064)] \n",
      "\n",
      "28 [('give', 0.003984064), ('effectivelyutil', 0.003984064), ('inth', 0.003984064), ('interfac', 0.003984064), ('indicatethat', 0.003984064), ('increasingli', 0.003984064), ('manag', 0.003984064), ('facet', 0.003984064), ('character', 0.003984064), ('complex', 0.003984064)] \n",
      "\n"
     ]
    }
   ],
   "source": [
    "# print the top 5 contributing topics and their words\n",
    "for i in doc_distribution.argsort()[-5:][::-1]:\n",
    "    print(i, lda.show_topic(topicid=i, topn=10), \"\\n\")\n"
   ]
  },
  {
   "cell_type": "code",
   "execution_count": 51,
   "metadata": {},
   "outputs": [
    {
     "name": "stdout",
     "output_type": "stream",
     "text": [
      "0\n"
     ]
    }
   ],
   "source": [
    "# select and article at random from test_df\n",
    "random_article_index = np.random.randint(len(test_df))\n",
    "print(random_article_index)"
   ]
  },
  {
   "cell_type": "code",
   "execution_count": 53,
   "metadata": {},
   "outputs": [],
   "source": [
    "new_bow = dictionary.doc2bow(test_df.iloc[random_article_index,1])"
   ]
  },
  {
   "cell_type": "code",
   "execution_count": 55,
   "metadata": {},
   "outputs": [
    {
     "name": "stdout",
     "output_type": "stream",
     "text": [
      "['abstracthuman', 'iri', 'contain', 'rich', 'textur', 'informationwhich', 'serv', 'key', 'inform', 'biometr', 'identificationsit', 'uniqu', 'one', 'accur', 'biometricmod', 'howev', 'spoof', 'techniqu', 'use', 'obfuscateor', 'imperson', 'ident', 'increas', 'risk', 'fals', 'acceptanceor', 'fals', 'reject', 'paper', 'revisit', 'iri', 'recognit', 'spoofingattack', 'analyz', 'effect', 'recognit', 'performancespecif', 'print', 'attack', 'contact', 'len', 'variat', 'use', 'asth', 'spoof', 'mechan', 'observ', 'print', 'attack', 'andcontact', 'len', 'individu', 'conjunct', 'significantlychang', 'interperson', 'intraperson', 'distribut', 'andtherebi', 'increas', 'possibl', 'deceiv', 'iri', 'recognitionsystem', 'paper', 'also', 'present', 'iiitd', 'iri', 'spoof', 'databasewhich', 'contain', 'iri', 'imag', 'pertain', 'individu', 'variat', 'due', 'contact', 'len', 'sensor', 'printattack', 'final', 'paper', 'also', 'show', 'cost', 'effect', 'descriptorapproach', 'may', 'help', 'countermeasur', 'spook', 'attack']\n"
     ]
    }
   ],
   "source": [
    "print(test_df.iloc[random_article_index,1])"
   ]
  },
  {
   "cell_type": "code",
   "execution_count": 57,
   "metadata": {},
   "outputs": [
    {
     "name": "stdout",
     "output_type": "stream",
     "text": [
      "['abstracthuman', 'iri', 'contain', 'rich', 'textur', 'informationwhich', 'serv', 'key', 'inform', 'biometr', 'identificationsit', 'uniqu', 'one', 'accur', 'biometricmod', 'howev', 'spoof', 'techniqu', 'use', 'obfuscateor', 'imperson', 'ident', 'increas', 'risk', 'fals', 'acceptanceor', 'fals', 'reject', 'paper', 'revisit', 'iri', 'recognit', 'spoofingattack', 'analyz', 'effect', 'recognit', 'performancespecif', 'print', 'attack', 'contact', 'len', 'variat', 'use', 'asth', 'spoof', 'mechan', 'observ', 'print', 'attack', 'andcontact', 'len', 'individu', 'conjunct', 'significantlychang', 'interperson', 'intraperson', 'distribut', 'andtherebi', 'increas', 'possibl', 'deceiv', 'iri', 'recognitionsystem', 'paper', 'also', 'present', 'iiitd', 'iri', 'spoof', 'databasewhich', 'contain', 'iri', 'imag', 'pertain', 'individu', 'variat', 'due', 'contact', 'len', 'sensor', 'printattack', 'final', 'paper', 'also', 'show', 'cost', 'effect', 'descriptorapproach', 'may', 'help', 'countermeasur', 'spook', 'attack']\n"
     ]
    }
   ],
   "source": [
    "print(test_df.iloc[random_article_index,1])"
   ]
  },
  {
   "cell_type": "code",
   "execution_count": 59,
   "metadata": {},
   "outputs": [],
   "source": [
    "new_doc_distribution = np.array([tup[1] for tup in lda.get_document_topics(bow=new_bow)])"
   ]
  },
  {
   "cell_type": "code",
   "execution_count": 60,
   "metadata": {},
   "outputs": [
    {
     "data": {
      "image/png": "[encoded data removed]",
      "text/plain": [
       "<Figure size 864x432 with 1 Axes>"
      ]
     },
     "metadata": {
      "needs_background": "light"
     },
     "output_type": "display_data"
    }
   ],
   "source": [
    "\n",
    "\n",
    "# bar plot of topic distribution for this document\n",
    "fig, ax = plt.subplots(figsize=(12,6));\n",
    "# the histogram of the data\n",
    "patches = ax.bar(np.arange(len(new_doc_distribution)), new_doc_distribution)\n",
    "ax.set_xlabel('Topic ID', fontsize=15)\n",
    "ax.set_ylabel('Topic Contribution', fontsize=15)\n",
    "ax.set_title(\"Topic Distribution for an Unseen Article\", fontsize=20)\n",
    "ax.set_xticks(np.linspace(10,100,10))\n",
    "fig.tight_layout()\n",
    "plt.show()\n",
    "\n"
   ]
  },
  {
   "cell_type": "code",
   "execution_count": 61,
   "metadata": {},
   "outputs": [
    {
     "name": "stdout",
     "output_type": "stream",
     "text": [
      "13 [('iri', 0.056812715), ('attack', 0.052092224), ('spoof', 0.043946266), ('imag', 0.03625769), ('propos', 0.022434076), ('textur', 0.022354165), ('detect', 0.022005798), ('framework', 0.021489406), ('howev', 0.015471946), ('structur', 0.014815907)] \n",
      "\n",
      "21 [('technolog', 0.078528464), ('wireless', 0.06868504), ('mobil', 0.05844469), ('network', 0.039732352), ('gener', 0.038365126), ('evolut', 0.029192975), ('architectur', 0.02906015), ('paper', 0.028934829), ('made', 0.019895433), ('propos', 0.019873193)] \n",
      "\n",
      "26 [('site', 0.05528832), ('instal', 0.044221055), ('cost', 0.043293595), ('architectur', 0.032886285), ('optic', 0.032223053), ('problem', 0.022187268), ('propos', 0.022109205), ('consid', 0.022106856), ('fiber', 0.02204259), ('link', 0.02202869)] \n",
      "\n",
      "25 [('give', 0.003984064), ('effectivelyutil', 0.003984064), ('inth', 0.003984064), ('interfac', 0.003984064), ('indicatethat', 0.003984064), ('increasingli', 0.003984064), ('manag', 0.003984064), ('facet', 0.003984064), ('character', 0.003984064), ('complex', 0.003984064)] \n",
      "\n",
      "27 [('give', 0.003984064), ('effectivelyutil', 0.003984064), ('inth', 0.003984064), ('interfac', 0.003984064), ('indicatethat', 0.003984064), ('increasingli', 0.003984064), ('manag', 0.003984064), ('facet', 0.003984064), ('character', 0.003984064), ('complex', 0.003984064)] \n",
      "\n"
     ]
    }
   ],
   "source": [
    "# print the top 8 contributing topics and their words\n",
    "for i in new_doc_distribution.argsort()[-5:][::-1]:\n",
    "    print(i, lda.show_topic(topicid=i, topn=10), \"\\n\")"
   ]
  },
  {
   "cell_type": "code",
   "execution_count": 62,
   "metadata": {},
   "outputs": [
    {
     "data": {
      "text/plain": [
       "(4, 100)"
      ]
     },
     "execution_count": 62,
     "metadata": {},
     "output_type": "execute_result"
    }
   ],
   "source": [
    "# we need to use nested list comprehension here\n",
    "# this may take 1-2 minutes...\n",
    "doc_topic_dist = np.array([[tup[1] for tup in lst] for lst in lda[corpus]])\n",
    "doc_topic_dist.shape"
   ]
  },
  {
   "cell_type": "code",
   "execution_count": 63,
   "metadata": {},
   "outputs": [],
   "source": [
    "def jensen_shannon(query, matrix):\n",
    "    \"\"\"\n",
    "    This function implements a Jensen-Shannon similarity\n",
    "    between the input query (an LDA topic distribution for a document)\n",
    "    and the entire corpus of topic distributions.\n",
    "    It returns an array of length M where M is the number of documents in the corpus\n",
    "    \"\"\"\n",
    "    # lets keep with the p,q notation above\n",
    "    p = query[None,:].T # take transpose\n",
    "    q = matrix.T # transpose matrix\n",
    "    m = 0.5*(p + q)\n",
    "    return np.sqrt(0.5*(entropy(p,m) + entropy(q,m)))\n"
   ]
  },
  {
   "cell_type": "code",
   "execution_count": 64,
   "metadata": {},
   "outputs": [],
   "source": [
    "def get_most_similar_documents(query,matrix,k=10):\n",
    "    \"\"\"\n",
    "    This function implements the Jensen-Shannon distance above\n",
    "    and retruns the top k indices of the smallest jensen shannon distances\n",
    "    \"\"\"\n",
    "    sims = jensen_shannon(query,matrix) # list of jensen shannon distances\n",
    "    return sims.argsort()[:k] # the top k positional index of the smallest Jensen Shannon distances"
   ]
  },
  {
   "cell_type": "code",
   "execution_count": 65,
   "metadata": {},
   "outputs": [],
   "source": [
    "# this is surprisingly fast\n",
    "most_sim_ids = get_most_similar_documents(new_doc_distribution,doc_topic_dist)\n"
   ]
  },
  {
   "cell_type": "code",
   "execution_count": 67,
   "metadata": {},
   "outputs": [
    {
     "data": {
      "text/plain": [
       "0    Abstract:In  this  paper,  an  attempt  has  b...\n",
       "1    Human iris is considered a reliable and accura...\n",
       "2    Abstract.In operations of increasingly complex...\n",
       "3    ABSTRACT We focus on the problem of designing ...\n",
       "Name: abstract, dtype: object"
      ]
     },
     "execution_count": 67,
     "metadata": {},
     "output_type": "execute_result"
    }
   ],
   "source": [
    "most_similar_df = train_df[train_df.index.isin(most_sim_ids)]\n",
    "most_similar_df['abstract']"
   ]
  },
  {
   "cell_type": "code",
   "execution_count": 68,
   "metadata": {},
   "outputs": [
    {
     "ename": "NameError",
     "evalue": "name 'get_most_similaras' is not defined",
     "output_type": "error",
     "traceback": [
      "\u001b[0;31m---------------------------------------------------------------------------\u001b[0m",
      "\u001b[0;31mNameError\u001b[0m                                 Traceback (most recent call last)",
      "\u001b[0;32m<ipython-input-68-7d1ae0eac44a>\u001b[0m in \u001b[0;36m<module>\u001b[0;34m\u001b[0m\n\u001b[0;32m----> 1\u001b[0;31m \u001b[0mprint\u001b[0m\u001b[0;34m(\u001b[0m\u001b[0mget_most_similaras\u001b[0m\u001b[0;34m)\u001b[0m\u001b[0;34m\u001b[0m\u001b[0;34m\u001b[0m\u001b[0m\n\u001b[0m",
      "\u001b[0;31mNameError\u001b[0m: name 'get_most_similaras' is not defined"
     ]
    }
   ],
   "source": []
  },
  {
   "cell_type": "code",
   "execution_count": null,
   "metadata": {},
   "outputs": [],
   "source": []
  }
 ],
 "metadata": {
  "kernelspec": {
   "display_name": "Python 3",
   "language": "python",
   "name": "python3"
  },
  "language_info": {
   "codemirror_mode": {
    "name": "ipython",
    "version": 3
   },
   "file_extension": ".py",
   "mimetype": "text/x-python",
   "name": "python",
   "nbconvert_exporter": "python",
   "pygments_lexer": "ipython3",
   "version": "3.6.8"
  },
  "pycharm": {
   "stem_cell": {
    "cell_type": "raw",
    "metadata": {
     "collapsed": false
    },
    "source": []
   }
  }
 },
 "nbformat": 4,
 "nbformat_minor": 2
}
